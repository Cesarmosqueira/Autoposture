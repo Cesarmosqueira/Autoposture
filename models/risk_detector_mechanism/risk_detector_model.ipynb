{
 "cells": [
  {
   "cell_type": "code",
   "execution_count": 2,
   "id": "b816e63b",
   "metadata": {},
   "outputs": [],
   "source": [
    "import matplotlib.pyplot as plt\n",
    "import pandas as pd\n",
    "import torch\n",
    "import torch.nn as nn\n",
    "\n",
    "import numpy as np\n",
    "import torch.optim as optim\n",
    "import torch.utils.data as data\n",
    "from sklearn.model_selection import train_test_split\n",
    "from sklearn.preprocessing import MinMaxScaler, LabelEncoder\n",
    "import ast\n",
    "from torch.utils.data import DataLoader, TensorDataset\n",
    "from sklearn.metrics import accuracy_score, precision_score, recall_score, f1_score\n",
    "import matplotlib.pyplot as plt"
   ]
  },
  {
   "cell_type": "code",
   "execution_count": 3,
   "id": "b5596d2e",
   "metadata": {},
   "outputs": [],
   "source": [
    "dataset = pd.read_csv('../landmark_extraction_mechanism/labeled_dataset.csv')"
   ]
  },
  {
   "cell_type": "code",
   "execution_count": 4,
   "id": "1fdf3c61",
   "metadata": {},
   "outputs": [
    {
     "data": {
      "text/html": [
       "<div>\n",
       "<style scoped>\n",
       "    .dataframe tbody tr th:only-of-type {\n",
       "        vertical-align: middle;\n",
       "    }\n",
       "\n",
       "    .dataframe tbody tr th {\n",
       "        vertical-align: top;\n",
       "    }\n",
       "\n",
       "    .dataframe thead th {\n",
       "        text-align: right;\n",
       "    }\n",
       "</style>\n",
       "<table border=\"1\" class=\"dataframe\">\n",
       "  <thead>\n",
       "    <tr style=\"text-align: right;\">\n",
       "      <th></th>\n",
       "      <th>video</th>\n",
       "      <th>group</th>\n",
       "      <th>frame</th>\n",
       "      <th>landmarks</th>\n",
       "      <th>Label</th>\n",
       "    </tr>\n",
       "  </thead>\n",
       "  <tbody>\n",
       "    <tr>\n",
       "      <th>0</th>\n",
       "      <td>video56.mp4</td>\n",
       "      <td>1</td>\n",
       "      <td>5</td>\n",
       "      <td>[          0           0      51.864      255....</td>\n",
       "      <td>bad</td>\n",
       "    </tr>\n",
       "    <tr>\n",
       "      <th>1</th>\n",
       "      <td>video56.mp4</td>\n",
       "      <td>1</td>\n",
       "      <td>11</td>\n",
       "      <td>[          0           0      82.174      253....</td>\n",
       "      <td>bad</td>\n",
       "    </tr>\n",
       "    <tr>\n",
       "      <th>2</th>\n",
       "      <td>video56.mp4</td>\n",
       "      <td>1</td>\n",
       "      <td>17</td>\n",
       "      <td>[          0           0      118.78      253....</td>\n",
       "      <td>bad</td>\n",
       "    </tr>\n",
       "    <tr>\n",
       "      <th>3</th>\n",
       "      <td>video56.mp4</td>\n",
       "      <td>1</td>\n",
       "      <td>23</td>\n",
       "      <td>[          0           0      155.33      253....</td>\n",
       "      <td>bad</td>\n",
       "    </tr>\n",
       "    <tr>\n",
       "      <th>4</th>\n",
       "      <td>video56.mp4</td>\n",
       "      <td>1</td>\n",
       "      <td>29</td>\n",
       "      <td>[          0           0      181.27      252....</td>\n",
       "      <td>bad</td>\n",
       "    </tr>\n",
       "    <tr>\n",
       "      <th>5</th>\n",
       "      <td>video56.mp4</td>\n",
       "      <td>1</td>\n",
       "      <td>35</td>\n",
       "      <td>[          0           0      195.85      253....</td>\n",
       "      <td>bad</td>\n",
       "    </tr>\n",
       "    <tr>\n",
       "      <th>6</th>\n",
       "      <td>video56.mp4</td>\n",
       "      <td>1</td>\n",
       "      <td>41</td>\n",
       "      <td>[          0           0      232.89      279....</td>\n",
       "      <td>bad</td>\n",
       "    </tr>\n",
       "    <tr>\n",
       "      <th>7</th>\n",
       "      <td>video56.mp4</td>\n",
       "      <td>1</td>\n",
       "      <td>47</td>\n",
       "      <td>[          0           0      278.54      286....</td>\n",
       "      <td>bad</td>\n",
       "    </tr>\n",
       "    <tr>\n",
       "      <th>8</th>\n",
       "      <td>video56.mp4</td>\n",
       "      <td>1</td>\n",
       "      <td>53</td>\n",
       "      <td>[          0           0      291.42      293....</td>\n",
       "      <td>bad</td>\n",
       "    </tr>\n",
       "    <tr>\n",
       "      <th>9</th>\n",
       "      <td>video56.mp4</td>\n",
       "      <td>1</td>\n",
       "      <td>59</td>\n",
       "      <td>[          0           0      295.83      291....</td>\n",
       "      <td>bad</td>\n",
       "    </tr>\n",
       "    <tr>\n",
       "      <th>10</th>\n",
       "      <td>video56.mp4</td>\n",
       "      <td>2</td>\n",
       "      <td>71</td>\n",
       "      <td>[          0           0      291.94      289....</td>\n",
       "      <td>bad</td>\n",
       "    </tr>\n",
       "    <tr>\n",
       "      <th>11</th>\n",
       "      <td>video56.mp4</td>\n",
       "      <td>2</td>\n",
       "      <td>77</td>\n",
       "      <td>[          0           0      293.24      286....</td>\n",
       "      <td>bad</td>\n",
       "    </tr>\n",
       "    <tr>\n",
       "      <th>12</th>\n",
       "      <td>video56.mp4</td>\n",
       "      <td>2</td>\n",
       "      <td>83</td>\n",
       "      <td>[          0           0      298.95      283....</td>\n",
       "      <td>bad</td>\n",
       "    </tr>\n",
       "    <tr>\n",
       "      <th>13</th>\n",
       "      <td>video56.mp4</td>\n",
       "      <td>2</td>\n",
       "      <td>89</td>\n",
       "      <td>[          0           0      303.79      282....</td>\n",
       "      <td>bad</td>\n",
       "    </tr>\n",
       "    <tr>\n",
       "      <th>14</th>\n",
       "      <td>video56.mp4</td>\n",
       "      <td>2</td>\n",
       "      <td>95</td>\n",
       "      <td>[          0           0      301.09      280....</td>\n",
       "      <td>bad</td>\n",
       "    </tr>\n",
       "  </tbody>\n",
       "</table>\n",
       "</div>"
      ],
      "text/plain": [
       "          video  group  frame   \n",
       "0   video56.mp4      1      5  \\\n",
       "1   video56.mp4      1     11   \n",
       "2   video56.mp4      1     17   \n",
       "3   video56.mp4      1     23   \n",
       "4   video56.mp4      1     29   \n",
       "5   video56.mp4      1     35   \n",
       "6   video56.mp4      1     41   \n",
       "7   video56.mp4      1     47   \n",
       "8   video56.mp4      1     53   \n",
       "9   video56.mp4      1     59   \n",
       "10  video56.mp4      2     71   \n",
       "11  video56.mp4      2     77   \n",
       "12  video56.mp4      2     83   \n",
       "13  video56.mp4      2     89   \n",
       "14  video56.mp4      2     95   \n",
       "\n",
       "                                            landmarks Label  \n",
       "0   [          0           0      51.864      255....   bad  \n",
       "1   [          0           0      82.174      253....   bad  \n",
       "2   [          0           0      118.78      253....   bad  \n",
       "3   [          0           0      155.33      253....   bad  \n",
       "4   [          0           0      181.27      252....   bad  \n",
       "5   [          0           0      195.85      253....   bad  \n",
       "6   [          0           0      232.89      279....   bad  \n",
       "7   [          0           0      278.54      286....   bad  \n",
       "8   [          0           0      291.42      293....   bad  \n",
       "9   [          0           0      295.83      291....   bad  \n",
       "10  [          0           0      291.94      289....   bad  \n",
       "11  [          0           0      293.24      286....   bad  \n",
       "12  [          0           0      298.95      283....   bad  \n",
       "13  [          0           0      303.79      282....   bad  \n",
       "14  [          0           0      301.09      280....   bad  "
      ]
     },
     "execution_count": 4,
     "metadata": {},
     "output_type": "execute_result"
    }
   ],
   "source": [
    "dataset.head(15)"
   ]
  },
  {
   "cell_type": "code",
   "execution_count": 5,
   "id": "3f0266d4",
   "metadata": {},
   "outputs": [],
   "source": [
    "def is_float(num):\n",
    "    try:\n",
    "        float(num)\n",
    "        return True\n",
    "    except ValueError:\n",
    "        return False"
   ]
  },
  {
   "cell_type": "code",
   "execution_count": 6,
   "id": "3a3ada25",
   "metadata": {},
   "outputs": [],
   "source": [
    "dataset['landmarks'] = dataset['landmarks'].apply(lambda arr: np.array([float(n) for n in arr.split() if is_float(n)]))"
   ]
  },
  {
   "cell_type": "code",
   "execution_count": 13,
   "id": "b916632b",
   "metadata": {},
   "outputs": [
    {
     "data": {
      "text/plain": [
       "Label\n",
       "bad     3189\n",
       "good     830\n",
       "Name: count, dtype: int64"
      ]
     },
     "execution_count": 13,
     "metadata": {},
     "output_type": "execute_result"
    }
   ],
   "source": [
    "dataset['Label'].value_counts()"
   ]
  },
  {
   "attachments": {},
   "cell_type": "markdown",
   "id": "559d954b",
   "metadata": {},
   "source": [
    "### Dataset csv\n",
    "\n",
    "Each row contains a video (so we can label the data), also the timestamp of the frame where that sequence set of landmarks was captured and "
   ]
  },
  {
   "cell_type": "code",
   "execution_count": 15,
   "id": "17567882",
   "metadata": {},
   "outputs": [],
   "source": [
    "\n",
    "# Group the data by 'video' and 'group'\n",
    "grouped_data = dataset.groupby(['video', 'group'])\n",
    "\n",
    "# Define the sequence length\n",
    "sequence_length = 10\n",
    "\n",
    "# Create lists to store the sequences and labels\n",
    "sequences = []\n",
    "labels = []\n",
    "\n",
    "# Iterate over each group\n",
    "for group, data in grouped_data:\n",
    "    landmarks = data['landmarks'].tolist()\n",
    "    group_labels = data['Label'].tolist()\n",
    "    \n",
    "    # Create sequences of landmarks\n",
    "    for i in range(len(landmarks) - sequence_length + 1):\n",
    "        sequence = landmarks[i:i+sequence_length]\n",
    "        sequences.append(sequence)\n",
    "        labels.append(group_labels[i+sequence_length-1])"
   ]
  },
  {
   "cell_type": "code",
   "execution_count": 10,
   "id": "aaee55f4",
   "metadata": {},
   "outputs": [],
   "source": []
  },
  {
   "cell_type": "code",
   "execution_count": 16,
   "id": "d688fb6a",
   "metadata": {},
   "outputs": [],
   "source": [
    "sequences = np.array(sequences)\n",
    "\n",
    "scaler = MinMaxScaler()\n",
    "normalized_sequences = np.zeros_like(sequences)\n",
    "\n",
    "for i in range(sequences.shape[0]):\n",
    "    for j in range(sequences.shape[1]):\n",
    "        # Flatten the landmarks for each set within the sequence\n",
    "        landmarks_flattened = np.reshape(sequences[i, j], (-1, 1))\n",
    "        # Normalize the landmarks\n",
    "        landmarks_normalized = scaler.fit_transform(landmarks_flattened)\n",
    "        # Reshape the normalized landmarks back to the original shape\n",
    "        normalized_landmarks = np.reshape(landmarks_normalized, sequences[i, j].shape)\n",
    "        # Update the normalized landmarks in the sequences array\n",
    "        normalized_sequences[i, j] = normalized_landmarks"
   ]
  },
  {
   "cell_type": "code",
   "execution_count": 17,
   "id": "7fe98765",
   "metadata": {},
   "outputs": [],
   "source": [
    "label_encoder = LabelEncoder()\n",
    "labels_encoded = label_encoder.fit_transform(labels)"
   ]
  },
  {
   "cell_type": "code",
   "execution_count": 19,
   "id": "18c67ba2",
   "metadata": {},
   "outputs": [
    {
     "data": {
      "text/plain": [
       "array([1])"
      ]
     },
     "execution_count": 19,
     "metadata": {},
     "output_type": "execute_result"
    }
   ],
   "source": [
    "label_encoder.transform(['good'])"
   ]
  },
  {
   "cell_type": "code",
   "execution_count": 20,
   "id": "6f7d9ef0",
   "metadata": {},
   "outputs": [],
   "source": [
    "train_X, test_X, train_y, test_y = train_test_split(normalized_sequences, labels_encoded, test_size=0.2, shuffle=True)"
   ]
  },
  {
   "cell_type": "code",
   "execution_count": 22,
   "id": "2a103a7c",
   "metadata": {},
   "outputs": [
    {
     "name": "stdout",
     "output_type": "stream",
     "text": [
      "(309, 10, 57)\n",
      "(309,)\n"
     ]
    }
   ],
   "source": [
    "print(train_X.shape)\n",
    "print(train_y.shape)"
   ]
  },
  {
   "cell_type": "code",
   "execution_count": 23,
   "id": "b0a97cf5",
   "metadata": {},
   "outputs": [],
   "source": [
    "train_X_tensor = torch.Tensor(train_X)\n",
    "train_y_tensor = torch.Tensor(train_y)"
   ]
  },
  {
   "cell_type": "code",
   "execution_count": 24,
   "id": "62ffefb3",
   "metadata": {},
   "outputs": [],
   "source": [
    "train_dataset = TensorDataset(train_X_tensor, train_y_tensor)\n",
    "train_dataloader = DataLoader(train_dataset, batch_size=16, shuffle=True)"
   ]
  },
  {
   "cell_type": "code",
   "execution_count": 25,
   "id": "f3fee3a0",
   "metadata": {},
   "outputs": [],
   "source": [
    "class LSTMModel(nn.Module):\n",
    "    def __init__(self, input_size, hidden_size, num_classes):\n",
    "        super(LSTMModel, self).__init__()\n",
    "        self.lstm = nn.LSTM(input_size, hidden_size, batch_first=True)\n",
    "        self.dropout = nn.Dropout(0.2)\n",
    "        self.fc1 = nn.Linear(hidden_size, 32)\n",
    "        self.fc2 = nn.Linear(32, num_classes)\n",
    "        self.relu = nn.ReLU()\n",
    "        \n",
    "    def forward(self, x):\n",
    "        _, (h_n, _) = self.lstm(x)\n",
    "        x = self.dropout(h_n[-1])\n",
    "        x = self.fc1(x)\n",
    "        x = self.fc2(x)\n",
    "        x = self.relu(x)\n",
    "        return x"
   ]
  },
  {
   "cell_type": "code",
   "execution_count": 19,
   "id": "73ff82a7",
   "metadata": {},
   "outputs": [
    {
     "data": {
      "text/plain": [
       "array([0, 0, 0, 1, 1, 1, 1, 1, 0, 0, 0, 1, 1, 1, 0, 0, 0, 0, 1, 1, 0, 0,\n",
       "       0, 1, 1, 0, 0, 0, 0, 0, 1, 0, 0, 0, 0])"
      ]
     },
     "execution_count": 19,
     "metadata": {},
     "output_type": "execute_result"
    }
   ],
   "source": [
    "train_y"
   ]
  },
  {
   "cell_type": "code",
   "execution_count": null,
   "id": "fdb5bdd4",
   "metadata": {},
   "outputs": [],
   "source": []
  },
  {
   "cell_type": "code",
   "execution_count": 20,
   "id": "e00a466c",
   "metadata": {},
   "outputs": [],
   "source": [
    "input_size = train_X.shape[2]\n",
    "hidden_size = 256\n",
    "num_classes = 1\n",
    "num_epochs = 20\n",
    "learning_rate = 0.01\n",
    "\n",
    "# Instantiate the model\n",
    "model = LSTMModel(input_size, hidden_size, num_classes)"
   ]
  },
  {
   "cell_type": "code",
   "execution_count": 21,
   "id": "cbd8f248",
   "metadata": {},
   "outputs": [],
   "source": [
    "# Define the loss function and optimizer\n",
    "criterion = nn.BCELoss()\n",
    "optimizer = optim.SGD(model.parameters(), lr=learning_rate)"
   ]
  },
  {
   "cell_type": "code",
   "execution_count": 22,
   "id": "ccad7089",
   "metadata": {},
   "outputs": [
    {
     "data": {
      "text/plain": [
       "(35, 10, 57)"
      ]
     },
     "execution_count": 22,
     "metadata": {},
     "output_type": "execute_result"
    }
   ],
   "source": [
    "train_X.shape"
   ]
  },
  {
   "cell_type": "code",
   "execution_count": 23,
   "id": "ac9bf3f1",
   "metadata": {},
   "outputs": [
    {
     "data": {
      "text/plain": [
       "LSTMModel(\n",
       "  (lstm): LSTM(57, 256, batch_first=True)\n",
       "  (dropout): Dropout(p=0.2, inplace=False)\n",
       "  (fc1): Linear(in_features=256, out_features=32, bias=True)\n",
       "  (fc2): Linear(in_features=32, out_features=1, bias=True)\n",
       "  (relu): ReLU()\n",
       ")"
      ]
     },
     "execution_count": 23,
     "metadata": {},
     "output_type": "execute_result"
    }
   ],
   "source": [
    "model"
   ]
  },
  {
   "cell_type": "code",
   "execution_count": 84,
   "id": "e25c0432",
   "metadata": {},
   "outputs": [
    {
     "name": "stdout",
     "output_type": "stream",
     "text": [
      "Epoch 1/20, Loss: 0.6317258477210999, Accuracy: 0.34285714285714286, F1 Score: 0.5106382978723404, Recall: 1.0\n",
      "Epoch 2/20, Loss: 0.6629362106323242, Accuracy: 0.34285714285714286, F1 Score: 0.5106382978723404, Recall: 1.0\n",
      "Epoch 3/20, Loss: 0.6493331789970398, Accuracy: 0.34285714285714286, F1 Score: 0.5106382978723404, Recall: 1.0\n",
      "Epoch 4/20, Loss: 0.42514947056770325, Accuracy: 0.34285714285714286, F1 Score: 0.5106382978723404, Recall: 1.0\n",
      "Epoch 5/20, Loss: 0.6201693415641785, Accuracy: 0.34285714285714286, F1 Score: 0.5106382978723404, Recall: 1.0\n",
      "Epoch 6/20, Loss: 0.6334384083747864, Accuracy: 0.34285714285714286, F1 Score: 0.5106382978723404, Recall: 1.0\n",
      "Epoch 7/20, Loss: 0.45879730582237244, Accuracy: 0.34285714285714286, F1 Score: 0.5106382978723404, Recall: 1.0\n",
      "Epoch 8/20, Loss: 0.5626592040061951, Accuracy: 0.34285714285714286, F1 Score: 0.5106382978723404, Recall: 1.0\n",
      "Epoch 9/20, Loss: 0.6186790466308594, Accuracy: 0.34285714285714286, F1 Score: 0.5106382978723404, Recall: 1.0\n",
      "Epoch 10/20, Loss: 0.7845287919044495, Accuracy: 0.34285714285714286, F1 Score: 0.5106382978723404, Recall: 1.0\n",
      "Epoch 11/20, Loss: 0.7361273765563965, Accuracy: 0.34285714285714286, F1 Score: 0.5106382978723404, Recall: 1.0\n",
      "Epoch 12/20, Loss: 0.7360219955444336, Accuracy: 0.34285714285714286, F1 Score: 0.5106382978723404, Recall: 1.0\n",
      "Epoch 13/20, Loss: 0.6111674904823303, Accuracy: 0.34285714285714286, F1 Score: 0.5106382978723404, Recall: 1.0\n",
      "Epoch 14/20, Loss: 0.4425848424434662, Accuracy: 0.34285714285714286, F1 Score: 0.5106382978723404, Recall: 1.0\n",
      "Epoch 15/20, Loss: 0.5002073645591736, Accuracy: 0.34285714285714286, F1 Score: 0.5106382978723404, Recall: 1.0\n",
      "Epoch 16/20, Loss: 0.7080190777778625, Accuracy: 0.34285714285714286, F1 Score: 0.5106382978723404, Recall: 1.0\n",
      "Epoch 17/20, Loss: 0.770350456237793, Accuracy: 0.34285714285714286, F1 Score: 0.5106382978723404, Recall: 1.0\n",
      "Epoch 18/20, Loss: 0.4840811789035797, Accuracy: 0.34285714285714286, F1 Score: 0.5106382978723404, Recall: 1.0\n",
      "Epoch 19/20, Loss: 0.6147217154502869, Accuracy: 0.34285714285714286, F1 Score: 0.5106382978723404, Recall: 1.0\n",
      "Epoch 20/20, Loss: 0.6023398041725159, Accuracy: 0.34285714285714286, F1 Score: 0.5106382978723404, Recall: 1.0\n"
     ]
    }
   ],
   "source": [
    "\n",
    "epoch_accuracy = []\n",
    "epoch_f1_score = []\n",
    "epoch_recall = []\n",
    "epoch_loss = []\n",
    "\n",
    "for epoch in range(num_epochs):\n",
    "    true_labels = []\n",
    "    predicted_labels = []\n",
    "    for inputs, labels in train_dataloader:\n",
    "        # Zero the gradients\n",
    "        optimizer.zero_grad()\n",
    "        \n",
    "        # Forward pass\n",
    "        outputs = model(inputs)\n",
    "        predictions = torch.round(torch.sigmoid(outputs.squeeze()))\n",
    "\n",
    "        true_labels.extend(labels.numpy())\n",
    "        predicted_labels.extend(predictions.detach().numpy())\n",
    "\n",
    "        loss = criterion(outputs.squeeze(), labels)\n",
    "\n",
    "        # Backward pass and optimization\n",
    "        loss.backward()\n",
    "        optimizer.step()\n",
    "\n",
    "    # Calculate metrics\n",
    "    accuracy = accuracy_score(true_labels, predicted_labels)\n",
    "    f1 = f1_score(true_labels, predicted_labels)\n",
    "    recall = recall_score(true_labels, predicted_labels)\n",
    "\n",
    "    # Store metrics for each epoch\n",
    "    epoch_accuracy.append(accuracy)\n",
    "    epoch_f1_score.append(f1)\n",
    "    epoch_recall.append(recall)\n",
    "    epoch_loss.append(loss.item())\n",
    "    # Print the metrics for every epoch\n",
    "    print(f'Epoch {epoch+1}/{num_epochs}, Loss: {loss.item()}, Accuracy: {accuracy}, F1 Score: {f1}, Recall: {recall}')\n"
   ]
  },
  {
   "cell_type": "code",
   "execution_count": 24,
   "id": "9652ae63",
   "metadata": {},
   "outputs": [],
   "source": [
    "test_X_tensor = torch.Tensor(test_X)\n",
    "test_y_tensor = torch.Tensor(test_y)\n",
    "\n",
    "test_dataset = TensorDataset(test_X_tensor, test_y_tensor)\n",
    "test_dataloader = DataLoader(test_dataset, batch_size=16, shuffle=False)  # Set shuffle to False for evaluation\n"
   ]
  },
  {
   "cell_type": "code",
   "execution_count": null,
   "id": "cf15b3aa",
   "metadata": {},
   "outputs": [],
   "source": [
    "torch.save(model, 'best_model_ever.pt')"
   ]
  },
  {
   "cell_type": "code",
   "execution_count": 25,
   "id": "14dd6c30",
   "metadata": {},
   "outputs": [],
   "source": [
    "model = torch.load('best_model_ever.pt')"
   ]
  },
  {
   "cell_type": "code",
   "execution_count": 87,
   "id": "65d2c210",
   "metadata": {},
   "outputs": [
    {
     "name": "stdout",
     "output_type": "stream",
     "text": [
      "Accuracy: 0.67\n",
      "Precision: 0.44\n",
      "Recall: 0.67\n",
      "F1 Score: 0.53\n"
     ]
    },
    {
     "name": "stderr",
     "output_type": "stream",
     "text": [
      "/usr/lib/python3.11/site-packages/sklearn/metrics/_classification.py:1344: UndefinedMetricWarning: Precision is ill-defined and being set to 0.0 in labels with no predicted samples. Use `zero_division` parameter to control this behavior.\n",
      "  _warn_prf(average, modifier, msg_start, len(result))\n"
     ]
    }
   ],
   "source": [
    "\n",
    "# Set the model to evaluation mode\n",
    "model.eval()\n",
    "\n",
    "# Create lists to store the predicted labels and ground truth labels\n",
    "predicted_labels = []\n",
    "true_labels = []\n",
    "\n",
    "# Iterate over the test data\n",
    "for inputs, labels in test_dataloader:\n",
    "    # Forward pass\n",
    "    outputs = model(inputs)\n",
    "\n",
    "    # Get the predicted labels by taking the maximum probability\n",
    "    _, predicted = torch.max(outputs, dim=1)\n",
    "\n",
    "    # Append the predicted labels and true labels to the lists\n",
    "    predicted_labels.extend(predicted.tolist())\n",
    "    true_labels.extend(labels.tolist())\n",
    "\n",
    "# Convert the predicted labels and true labels to numpy arrays\n",
    "predicted_labels = np.array(predicted_labels)\n",
    "true_labels = np.array(true_labels)\n",
    "\n",
    "# Calculate accuracy\n",
    "accuracy = accuracy_score(true_labels, predicted_labels)\n",
    "\n",
    "# Calculate precision, recall, and F1 score\n",
    "precision = precision_score(true_labels, predicted_labels, average='weighted')\n",
    "recall = recall_score(true_labels, predicted_labels, average='weighted')\n",
    "f1 = f1_score(true_labels, predicted_labels, average='weighted')\n",
    "\n",
    "# Print the metrics\n",
    "print(f\"Accuracy: {accuracy:.2f}\")\n",
    "print(f\"Precision: {precision:.2f}\")\n",
    "print(f\"Recall: {recall:.2f}\")\n",
    "print(f\"F1 Score: {f1:.2f}\")\n"
   ]
  },
  {
   "cell_type": "code",
   "execution_count": 26,
   "id": "689fd872",
   "metadata": {},
   "outputs": [],
   "source": [
    "import cv2\n",
    "import matplotlib.pyplot as plt\n",
    "import random"
   ]
  },
  {
   "cell_type": "code",
   "execution_count": 44,
   "id": "82ed5342",
   "metadata": {},
   "outputs": [
    {
     "data": {
      "image/png": "[encoded data removed]",
      "text/plain": [
       "<Figure size 500x500 with 1 Axes>"
      ]
     },
     "metadata": {},
     "output_type": "display_data"
    }
   ],
   "source": [
    "%matplotlib inline\n",
    "def test_model(index):\n",
    "\ttest = dataset.iloc[index]\n",
    "\tcap = cv2.VideoCapture('../dataset_videos/' + test['video'])\n",
    "\tcap.set(cv2.CAP_PROP_POS_FRAMES, test['frame'])\n",
    "\tret, frame = cap.read()\n",
    "\tif ret:\n",
    "\t\tframe_rgb = cv2.cvtColor(frame, cv2.COLOR_BGR2RGB)\n",
    "\t\tpose = torch.Tensor([test['landmarks']]).to('cpu')\n",
    "\t\tfig = plt.figure(figsize=(5,5))\n",
    "\t\tpred = 'bad' if round(float(model(pose)[0])) == 0 else 'good'\n",
    "\t\tplt.imshow(frame_rgb)\n",
    "\t\tplt.axis('off')\n",
    "\t\ttext = f\"Correct: {test['label']} Predicted: {pred}\"\n",
    "\t\tfig.text(.5, .2, text, ha='center')\n",
    "\t\tplt.show()\n",
    "\tcap.release()\n",
    "\t\n",
    "test_model(123)"
   ]
  },
  {
   "cell_type": "code",
   "execution_count": null,
   "id": "a79f4633",
   "metadata": {},
   "outputs": [],
   "source": []
  }
 ],
 "metadata": {
  "kernelspec": {
   "display_name": "Python 3 (ipykernel)",
   "language": "python",
   "name": "python3"
  },
  "language_info": {
   "codemirror_mode": {
    "name": "ipython",
    "version": 3
   },
   "file_extension": ".py",
   "mimetype": "text/x-python",
   "name": "python",
   "nbconvert_exporter": "python",
   "pygments_lexer": "ipython3",
   "version": "3.11.3"
  }
 },
 "nbformat": 4,
 "nbformat_minor": 5
}
