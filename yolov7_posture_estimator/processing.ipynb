{
 "cells": [
  {
   "cell_type": "code",
   "execution_count": 20,
   "id": "c966ac36",
   "metadata": {},
   "outputs": [],
   "source": [
    "import cv2\n",
    "import time\n",
    "import torch\n",
    "from torchvision import transforms\n",
    "from plotting_tools import plot_skeletons \n",
    "import matplotlib.pyplot as plt\n",
    "import json\n",
    "\n",
    "from utils.datasets import letterbox\n",
    "from utils.general import non_max_suppression_kpt\n",
    "from utils.plots import output_to_keypoint, plot_skeleton_kpts\n",
    "\n",
    "import numpy as np"
   ]
  },
  {
   "cell_type": "code",
   "execution_count": 21,
   "id": "b8b31d19",
   "metadata": {},
   "outputs": [
    {
     "name": "stdout",
     "output_type": "stream",
     "text": [
      "cuda:0\n"
     ]
    }
   ],
   "source": [
    "\n",
    "device = torch.device(\"cuda:0\" if torch.cuda.is_available() else \"cpu\")\n",
    "print(device)\n",
    "\n",
    "def load_model():\n",
    "    model = torch.load('./yolov7-w6-pose.pt', map_location=device)['model']\n",
    "    # Put in inference mode\n",
    "    model.float().eval()\n",
    "\n",
    "    if torch.cuda.is_available():\n",
    "        # half() turns predictions into float16 tensors\n",
    "        # which significantly lowers inference time\n",
    "        model.half().to(device)\n",
    "    return model\n",
    "\n",
    "model = load_model()"
   ]
  },
  {
   "cell_type": "code",
   "execution_count": 9,
   "id": "7d7dce82",
   "metadata": {},
   "outputs": [],
   "source": [
    "def run_inference(image):\n",
    "    # Resize and pad image\n",
    "    image = letterbox(image, 960, stride=64, auto=True)[0] # shape: (567, 960, 3)\n",
    "    # Apply transforms\n",
    "    image = transforms.ToTensor()(image) # torch.Size([3, 567, 960])\n",
    "    if torch.cuda.is_available():\n",
    "      image = image.half().to(device)\n",
    "    # Turn image into batch\n",
    "    image = image.unsqueeze(0) # torch.Size([1, 3, 567, 960])\n",
    "    with torch.no_grad():\n",
    "      output, _ = model(image)\n",
    "    return output, image"
   ]
  },
  {
   "cell_type": "code",
   "execution_count": 10,
   "id": "a0a7f3d5",
   "metadata": {},
   "outputs": [],
   "source": [
    "landmarks = []\n",
    "def draw_keypoints(output, image):\n",
    "    global landmarks\n",
    "    output = non_max_suppression_kpt(output, \n",
    "                                     0.25, # Confidence Threshold\n",
    "                                     0.65, # IoU Threshold\n",
    "                                     nc=model.yaml['nc'], # Number of Classes\n",
    "                                     nkpt=model.yaml['nkpt'], # Number of Keypoints\n",
    "                                     kpt_label=True)\n",
    "    with torch.no_grad():\n",
    "        output = output_to_keypoint(output)\n",
    "\n",
    "    landmarks += [output]\n",
    "\n",
    "    nimg = image[0].permute(1, 2, 0) * 255\n",
    "    nimg = nimg.cpu().numpy().astype(np.uint8)\n",
    "    nimg = cv2.cvtColor(nimg, cv2.COLOR_RGB2BGR)\n",
    "    for idx in range(output.shape[0]):\n",
    "        plot_skeleton_kpts(nimg, output[idx, 7:].T, 3)\n",
    "\n",
    "    return nimg"
   ]
  },
  {
   "cell_type": "code",
   "execution_count": 16,
   "id": "fc8f0e94",
   "metadata": {},
   "outputs": [],
   "source": [
    "def pose_estimation_video(**kwargs):\n",
    "    global fps_array\n",
    "    cap = None\n",
    "    if 'cap' in kwargs:\n",
    "        d = kwargs['cap']\n",
    "        if d == 'cam':\n",
    "            cap = cv2.VideoCapture(0)\n",
    "        else:\n",
    "            cap = cv2.VideoCapture(d)\n",
    "\n",
    "    # VideoWriter for saving the video\n",
    "\n",
    "    frame_count = 0\n",
    "    start_time = time.time()\n",
    "\n",
    "    while cap.isOpened():\n",
    "        (ret, frame) = cap.read()\n",
    "        if ret == True:\n",
    "            frame = cv2.resize(frame, (0,0), fx = 0.8, fy = 0.9)\n",
    "\n",
    "            frame = cv2.GaussianBlur(frame, (5,5), 3)\n",
    "\n",
    "\n",
    "\n",
    "            output, frame = run_inference(frame)\n",
    "            frame = draw_keypoints(output, frame)\n",
    "\n",
    "            frame = cv2.cvtColor(frame, cv2.COLOR_BGR2RGB)\n",
    "\n",
    "\n",
    "            cv2.imshow('Pose estimation', frame)\n",
    "\n",
    "            processing_time = time.time() - start_time\n",
    "\n",
    "            # Calculate the current FPS\n",
    "            frame_count += 1\n",
    "            fps = frame_count / (time.time() - start_time)\n",
    "            frame_count = 0\n",
    "            start_time = time.time()\n",
    "            fps_array += [fps]\n",
    "\n",
    "\n",
    "\n",
    "            # frame = cv2.resize(frame, (int(cap.get(3)), int(cap.get(4))))\n",
    "        else:\n",
    "            break\n",
    "\n",
    "        if cv2.waitKey(10) & 0xFF == ord('q'):\n",
    "            break\n",
    "\n",
    "    cap.release()\n",
    "    cv2.destroyAllWindows()\n",
    "\n",
    "\n",
    "    with open('current_landmarks.json', 'w') as f:\n",
    "        cleaned = []\n",
    "        for l in landmarks:\n",
    "            cleaned.append([m for m in list(l[0]) if len(l) ])\n",
    "        \n",
    "        f.write(json.dumps(cleaned, indent=1))\n",
    "        f.close()"
   ]
  },
  {
   "cell_type": "code",
   "execution_count": 24,
   "id": "01fdc5b9",
   "metadata": {},
   "outputs": [],
   "source": [
    "fps_array = []\n",
    "pose_estimation_video(cap = 'cam')\n",
    "fps_array = fps_array[1:]\n",
    "# pose_estimation_image('/home/g/Pictures/yomm.png')\n"
   ]
  },
  {
   "cell_type": "code",
   "execution_count": 25,
   "id": "76dd28a5",
   "metadata": {},
   "outputs": [
    {
     "data": {
      "text/plain": [
       "[5.1107542263629515,\n",
       " 5.549995964172437,\n",
       " 5.566391729318319,\n",
       " 5.511836974990899,\n",
       " 5.475213855960358,\n",
       " 5.423538052529767,\n",
       " 5.404703581097537,\n",
       " 5.4509070540853495,\n",
       " 5.519903244188663,\n",
       " 5.4807443027388665,\n",
       " 5.62392179105038,\n",
       " 5.039601378881107,\n",
       " 5.483151707837436,\n",
       " 5.499377857495932,\n",
       " 5.471514054145017,\n",
       " 5.417912433556587,\n",
       " 5.438510002943377,\n",
       " 5.391524325658402,\n",
       " 5.475764253710299,\n",
       " 5.578525960743005,\n",
       " 5.4669497700111185,\n",
       " 5.5429474607898594]"
      ]
     },
     "execution_count": 25,
     "metadata": {},
     "output_type": "execute_result"
    }
   ],
   "source": [
    "fps_array"
   ]
  },
  {
   "cell_type": "code",
   "execution_count": 26,
   "id": "27821a01",
   "metadata": {},
   "outputs": [
    {
     "data": {
      "image/png": "[encoded data removed]",
      "text/plain": [
       "<Figure size 640x480 with 1 Axes>"
      ]
     },
     "metadata": {},
     "output_type": "display_data"
    }
   ],
   "source": [
    "%matplotlib inline\n",
    "frame_indices = range(len(fps_array))\n",
    "fig, ax = plt.subplots()\n",
    "ax.plot(frame_indices, fps_array, color='blue', marker='o', linestyle='-')\n",
    "ax.set_xlabel('Frame Index')\n",
    "ax.set_ylabel('FPS')\n",
    "ax.set_title('Frames per Second (FPS)')\n",
    "ax.grid(True, linestyle='--', alpha=0.5)\n",
    "ax.set_facecolor('#f0f0f0')\n",
    "plt.show()"
   ]
  },
  {
   "cell_type": "code",
   "execution_count": null,
   "id": "934bac93",
   "metadata": {},
   "outputs": [],
   "source": []
  }
 ],
 "metadata": {
  "kernelspec": {
   "display_name": "Python 3 (ipykernel)",
   "language": "python",
   "name": "python3"
  },
  "language_info": {
   "codemirror_mode": {
    "name": "ipython",
    "version": 3
   },
   "file_extension": ".py",
   "mimetype": "text/x-python",
   "name": "python",
   "nbconvert_exporter": "python",
   "pygments_lexer": "ipython3",
   "version": "3.11.3"
  }
 },
 "nbformat": 4,
 "nbformat_minor": 5
}
