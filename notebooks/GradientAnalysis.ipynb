{
 "cells": [
  {
   "cell_type": "code",
   "execution_count": 4,
   "id": "63c571c3-95a7-40ce-8eb4-89c5add37ea2",
   "metadata": {},
   "outputs": [
    {
     "name": "stdout",
     "output_type": "stream",
     "text": [
      "'Videos Test'\t\t        labeled_dataset.csv\n",
      "'Videos Test.zip'\t        labeled_dataset_drive.csv\n",
      " audios\t\t\t        single_extracted_landmarks.csv\n",
      " dataset_cluttered.zip\t        single_extracted_landmarks_ambiguous.csv\n",
      " dataset_photos\t\t        single_extracted_landmarks_bad.csv\n",
      " dataset_videos\t\t        single_extracted_landmarks_inclass.csv\n",
      " extracted_landmarks.csv        single_extracted_landmarks_inclass_front.csv\n",
      " extracted_landmarks_test.csv   videos\n"
     ]
    }
   ],
   "source": [
    "!ls ../assets"
   ]
  },
  {
   "cell_type": "code",
   "execution_count": 5,
   "id": "9ddb7daf-949f-42d0-8211-5dd196420d4b",
   "metadata": {},
   "outputs": [],
   "source": [
    "import pandas as pd"
   ]
  },
  {
   "cell_type": "code",
   "execution_count": 7,
   "id": "faa85d01-cc03-4948-b227-c0e0c154c9f2",
   "metadata": {},
   "outputs": [
    {
     "data": {
      "text/plain": [
       "group\n",
       "1     2040\n",
       "2     2040\n",
       "3     2010\n",
       "4     1868\n",
       "5     1608\n",
       "6     1307\n",
       "7     1058\n",
       "8      793\n",
       "9      589\n",
       "10     438\n",
       "11     372\n",
       "12     298\n",
       "13     249\n",
       "14     191\n",
       "15     138\n",
       "16     108\n",
       "17      89\n",
       "18      64\n",
       "19      47\n",
       "20      30\n",
       "22      30\n",
       "21      30\n",
       "28      20\n",
       "32      20\n",
       "31      20\n",
       "30      20\n",
       "29      20\n",
       "27      20\n",
       "26      20\n",
       "25      20\n",
       "24      20\n",
       "23      20\n",
       "33      13\n",
       "34      10\n",
       "35      10\n",
       "36      10\n",
       "37       6\n",
       "Name: count, dtype: int64"
      ]
     },
     "execution_count": 7,
     "metadata": {},
     "output_type": "execute_result"
    }
   ],
   "source": [
    "pd.read_csv('../assets/labeled_dataset.csv')['group'].value_counts()"
   ]
  },
  {
   "cell_type": "code",
   "execution_count": 8,
   "id": "e47e2718-d54a-49c8-b25a-6068a5742c90",
   "metadata": {},
   "outputs": [
    {
     "name": "stderr",
     "output_type": "stream",
     "text": [
      "2023-11-14 18:46:48.106239: I tensorflow/core/util/port.cc:110] oneDNN custom operations are on. You may see slightly different numerical results due to floating-point round-off errors from different computation orders. To turn them off, set the environment variable `TF_ENABLE_ONEDNN_OPTS=0`.\n",
      "2023-11-14 18:46:48.107129: I tensorflow/tsl/cuda/cudart_stub.cc:28] Could not find cuda drivers on your machine, GPU will not be used.\n",
      "2023-11-14 18:46:48.127718: I tensorflow/tsl/cuda/cudart_stub.cc:28] Could not find cuda drivers on your machine, GPU will not be used.\n",
      "2023-11-14 18:46:48.128956: I tensorflow/core/platform/cpu_feature_guard.cc:182] This TensorFlow binary is optimized to use available CPU instructions in performance-critical operations.\n",
      "To enable the following instructions: AVX2 AVX512F AVX512_VNNI AVX512_BF16 FMA, in other operations, rebuild TensorFlow with the appropriate compiler flags.\n",
      "2023-11-14 18:46:48.619290: W tensorflow/compiler/tf2tensorrt/utils/py_utils.cc:38] TF-TRT Warning: Could not find TensorRT\n"
     ]
    }
   ],
   "source": [
    "import tensorflow as tf"
   ]
  },
  {
   "cell_type": "code",
   "execution_count": 10,
   "id": "3f84b0fb-227d-404f-a702-072710546e60",
   "metadata": {
    "scrolled": true
   },
   "outputs": [
    {
     "name": "stderr",
     "output_type": "stream",
     "text": [
      "2023-11-14 18:48:10.133259: I tensorflow/compiler/xla/stream_executor/cuda/cuda_gpu_executor.cc:995] successful NUMA node read from SysFS had negative value (-1), but there must be at least one NUMA node, so returning NUMA node zero. See more at https://github.com/torvalds/linux/blob/v6.0/Documentation/ABI/testing/sysfs-bus-pci#L344-L355\n",
      "2023-11-14 18:48:10.146072: W tensorflow/core/common_runtime/gpu/gpu_device.cc:1960] Cannot dlopen some GPU libraries. Please make sure the missing libraries mentioned above are installed properly if you would like to use GPU. Follow the guide at https://www.tensorflow.org/install/gpu for how to download and setup the required libraries for your platform.\n",
      "Skipping registering GPU devices...\n"
     ]
    }
   ],
   "source": [
    "model = tf.keras.models.load_model('../src_models/autoposture-model.h5')"
   ]
  },
  {
   "cell_type": "code",
   "execution_count": 11,
   "id": "1fc90acc-15e4-4d60-9313-a703b9e8ae0f",
   "metadata": {},
   "outputs": [
    {
     "name": "stdout",
     "output_type": "stream",
     "text": [
      "Model: \"sequential_1\"\n",
      "_________________________________________________________________\n",
      " Layer (type)                Output Shape              Param #   \n",
      "=================================================================\n",
      " lstm_2 (LSTM)               (None, 10, 128)           91648     \n",
      "                                                                 \n",
      " dropout_2 (Dropout)         (None, 10, 128)           0         \n",
      "                                                                 \n",
      " lstm_3 (LSTM)               (None, 64)                49408     \n",
      "                                                                 \n",
      " dropout_3 (Dropout)         (None, 64)                0         \n",
      "                                                                 \n",
      " dense_1 (Dense)             (None, 1)                 65        \n",
      "                                                                 \n",
      "=================================================================\n",
      "Total params: 141121 (551.25 KB)\n",
      "Trainable params: 141121 (551.25 KB)\n",
      "Non-trainable params: 0 (0.00 Byte)\n",
      "_________________________________________________________________\n"
     ]
    }
   ],
   "source": [
    "model.summary()"
   ]
  },
  {
   "cell_type": "code",
   "execution_count": null,
   "id": "dfdde51e-0a43-4dcc-b66b-a973fd4bf889",
   "metadata": {},
   "outputs": [],
   "source": []
  }
 ],
 "metadata": {
  "kernelspec": {
   "display_name": "Python 3 (ipykernel)",
   "language": "python",
   "name": "python3"
  },
  "language_info": {
   "codemirror_mode": {
    "name": "ipython",
    "version": 3
   },
   "file_extension": ".py",
   "mimetype": "text/x-python",
   "name": "python",
   "nbconvert_exporter": "python",
   "pygments_lexer": "ipython3",
   "version": "3.11.5"
  }
 },
 "nbformat": 4,
 "nbformat_minor": 5
}
