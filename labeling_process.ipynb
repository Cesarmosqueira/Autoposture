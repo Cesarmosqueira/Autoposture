{
 "cells": [
  {
   "cell_type": "code",
   "execution_count": 10,
   "metadata": {},
   "outputs": [],
   "source": [
    "import cv2\n",
    "import pandas as pd"
   ]
  },
  {
   "cell_type": "code",
   "execution_count": 11,
   "metadata": {},
   "outputs": [],
   "source": [
    "dataset = pd.read_csv('landmark_extraction_mechanism/dataset.csv')"
   ]
  },
  {
   "cell_type": "code",
   "execution_count": 18,
   "metadata": {},
   "outputs": [],
   "source": [
    "\n",
    "# Assuming your DataFrame is called 'df'\n",
    "video_dir = 'media/'  # Directory where your video files are stored\n",
    "frame_duration = 1  # Duration of each frame in seconds\n",
    "\n",
    "for index, row in dataset.iterrows():\n",
    "    video = row['video']\n",
    "\n",
    "    # Construct the path to the video file\n",
    "    video_path = video_dir + video  # Update the file extension if necessary\n",
    "\n",
    "    # Open the video file\n",
    "    cap = cv2.VideoCapture(video_path)\n",
    "\n",
    "    # Calculate the frame index based on the timestamp\n",
    "    frame_index = int(row['frame'])\n",
    "\n",
    "    # Set the video capture to the desired frame\n",
    "    cap.set(cv2.CAP_PROP_POS_FRAMES, frame_index)\n",
    "\n",
    "    # Display approximately 5 frames\n",
    "    for _ in range(5):\n",
    "        ret, frame = cap.read()\n",
    "        if ret:\n",
    "            cv2.imshow('Video', frame)\n",
    "        else:\n",
    "            break\n",
    "\n",
    "    # Release the video capture\n",
    "    cap.release()\n",
    "\n",
    "    # Ask for user input (you can modify this prompt as needed)\n",
    "    user_input = input(\"Enter a prompt: \")\n",
    "    # Process the user input or perform any additional operations here\n",
    "\n",
    "    # Close the video display window\n",
    "    cv2.destroyAllWindows()\n"
   ]
  },
  {
   "cell_type": "code",
   "execution_count": null,
   "metadata": {},
   "outputs": [],
   "source": [
    "\n",
    "\n",
    "\n",
    "\n",
    "\n",
    "\n",
    "\n",
    "\n",
    "\n",
    "\n",
    "\n",
    "\n",
    "\n",
    "\n"
   ]
  }
 ],
 "metadata": {
  "kernelspec": {
   "display_name": "Python 3",
   "language": "python",
   "name": "python3"
  },
  "language_info": {
   "codemirror_mode": {
    "name": "ipython",
    "version": 3
   },
   "file_extension": ".py",
   "mimetype": "text/x-python",
   "name": "python",
   "nbconvert_exporter": "python",
   "pygments_lexer": "ipython3",
   "version": "3.11.3"
  },
  "orig_nbformat": 4
 },
 "nbformat": 4,
 "nbformat_minor": 2
}
