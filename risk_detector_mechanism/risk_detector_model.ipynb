{
 "cells": [
  {
   "cell_type": "code",
   "execution_count": 10,
   "id": "b816e63b",
   "metadata": {},
   "outputs": [],
   "source": [
    "import matplotlib.pyplot as plt\n",
    "import pandas as pd\n",
    "import torch\n",
    "import torch.nn as nn\n",
    "\n",
    "import numpy as np\n",
    "import torch.optim as optim\n",
    "import torch.utils.data as data\n",
    "from sklearn.model_selection import train_test_split"
   ]
  },
  {
   "cell_type": "code",
   "execution_count": 18,
   "id": "b5596d2e",
   "metadata": {},
   "outputs": [],
   "source": [
    "dataset = pd.read_csv('../landmark_extraction_mechanism/labeled_dataset.csv')"
   ]
  },
  {
   "attachments": {},
   "cell_type": "markdown",
   "id": "559d954b",
   "metadata": {},
   "source": [
    "### Dataset csv\n",
    "\n",
    "Each row contains a video (so we can label the data), also the timestamp of the frame where that sequence set of landmarks was captured and "
   ]
  },
  {
   "cell_type": "code",
   "execution_count": 20,
   "id": "533c7e98",
   "metadata": {},
   "outputs": [],
   "source": [
    "dataset['Label'] = dataset['Label'].fillna(pd.Series(np.random.choice(['good', 'bad'], size=len(dataset)), index=dataset.index))"
   ]
  },
  {
   "cell_type": "code",
   "execution_count": 5,
   "id": "c674ef1a",
   "metadata": {},
   "outputs": [],
   "source": [
    "\n",
    "train_df, test_df = train_test_split(df, test_size=0.33, random_state=42)\n",
    "\n",
    "train_X = train_df['Month'].values.reshape(-1, 1)\n",
    "train_y = train_df['Passengers'].values.reshape(-1, 1)\n",
    "\n",
    "test_X = test_df['Month'].values.reshape(-1, 1)\n",
    "test_y = test_df['Passengers'].values.reshape(-1, 1)\n"
   ]
  },
  {
   "cell_type": "code",
   "execution_count": 6,
   "id": "803849f0",
   "metadata": {},
   "outputs": [],
   "source": [
    "train_X = torch.tensor(train_X, dtype=torch.float32)\n",
    "train_y = torch.tensor(train_y, dtype=torch.float32)"
   ]
  },
  {
   "cell_type": "code",
   "execution_count": 9,
   "id": "059932b3",
   "metadata": {},
   "outputs": [],
   "source": [
    "\n",
    "class AirModel(nn.Module):\n",
    "    def __init__(self):\n",
    "        super().__init__()\n",
    "        self.lstm = nn.LSTM(input_size=1, hidden_size=50, num_layers=1, batch_first=True)\n",
    "        self.linear = nn.Linear(50, 1)\n",
    "\n",
    "    def forward(self, x):\n",
    "        out, _ = self.lstm(x)\n",
    "        out = self.linear(out)  # Take the last time step's output\n",
    "        return out\n"
   ]
  },
  {
   "cell_type": "code",
   "execution_count": 10,
   "id": "0151ebfa",
   "metadata": {},
   "outputs": [
    {
     "name": "stdout",
     "output_type": "stream",
     "text": [
      "Epoch [25000/100000], Loss: 15448.4248\n",
      "Epoch [50000/100000], Loss: 15364.0752\n",
      "Epoch [75000/100000], Loss: 15323.7959\n",
      "Epoch [100000/100000], Loss: 15295.6182\n"
     ]
    }
   ],
   "source": [
    "# Define your training data\n",
    "\n",
    "# Create an instance of the AirModel\n",
    "model = AirModel()\n",
    "\n",
    "# Define the loss function and optimizer\n",
    "criterion = nn.MSELoss()\n",
    "optimizer = optim.Adam(model.parameters(), lr=0.001)\n",
    "\n",
    "# Set the number of training epochs\n",
    "num_epochs = 100000\n",
    "\n",
    "# Train the model\n",
    "for epoch in range(num_epochs):\n",
    "    model.train()\n",
    "    \n",
    "    # Forward pass\n",
    "    outputs = model(train_X)\n",
    "    loss = criterion(outputs, train_y)\n",
    "    \n",
    "    # Backward and optimize\n",
    "    optimizer.zero_grad()\n",
    "    loss.backward()\n",
    "    optimizer.step()\n",
    "    \n",
    "    # Print training loss for every few epochs\n",
    "    if (epoch+1) % int(num_epochs*0.25) == 0:\n",
    "        print(f'Epoch [{epoch+1}/{num_epochs}], Loss: {loss.item():.4f}')\n",
    "\n",
    "# Save the trained model\n",
    "torch.save(model.state_dict(), 'air_model.pth')"
   ]
  },
  {
   "cell_type": "code",
   "execution_count": 11,
   "id": "2457975e",
   "metadata": {},
   "outputs": [
    {
     "name": "stdout",
     "output_type": "stream",
     "text": [
      "Accuracy: 50.56%\n"
     ]
    }
   ],
   "source": [
    "\n",
    "# Assuming 'test_X' and 'test_y' are your test data NumPy arrays\n",
    "test_X = torch.tensor(test_X, dtype=torch.float32)\n",
    "test_y = torch.tensor(test_y, dtype=torch.float32)\n",
    "\n",
    "# Set the model to evaluation mode\n",
    "model.eval()\n",
    "\n",
    "# Make predictions on the test set\n",
    "with torch.no_grad():\n",
    "    predicted_y = model(test_X)\n",
    "\n",
    "# Calculate the accuracy\n",
    "absolute_diff = torch.abs(predicted_y - test_y)\n",
    "accuracy = 1.0 - torch.mean(absolute_diff / test_y)\n",
    "\n",
    "print(f\"Accuracy: {accuracy.item()*100:.2f}%\")\n"
   ]
  }
 ],
 "metadata": {
  "kernelspec": {
   "display_name": "Python 3 (ipykernel)",
   "language": "python",
   "name": "python3"
  },
  "language_info": {
   "codemirror_mode": {
    "name": "ipython",
    "version": 3
   },
   "file_extension": ".py",
   "mimetype": "text/x-python",
   "name": "python",
   "nbconvert_exporter": "python",
   "pygments_lexer": "ipython3",
   "version": "3.11.3"
  }
 },
 "nbformat": 4,
 "nbformat_minor": 5
}
